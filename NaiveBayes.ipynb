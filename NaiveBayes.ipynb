{
  "nbformat": 4,
  "nbformat_minor": 0,
  "metadata": {
    "colab": {
      "name": "NaiveBayes.ipynb",
      "provenance": [],
      "authorship_tag": "ABX9TyMZIJR6dl6jp314XrDWmOwB",
      "include_colab_link": true
    },
    "kernelspec": {
      "name": "python3",
      "display_name": "Python 3"
    },
    "language_info": {
      "name": "python"
    }
  },
  "cells": [
    {
      "cell_type": "markdown",
      "metadata": {
        "id": "view-in-github",
        "colab_type": "text"
      },
      "source": [
        "<a href=\"https://colab.research.google.com/github/1012357482/Phishing/blob/main/NaiveBayes.ipynb\" target=\"_parent\"><img src=\"https://colab.research.google.com/assets/colab-badge.svg\" alt=\"Open In Colab\"/></a>"
      ]
    },
    {
      "cell_type": "code",
      "metadata": {
        "id": "zj3ECTyyZyb8"
      },
      "source": [
        "import numpy as np\n",
        "import pandas as pd\n",
        "import matplotlib.pyplot as plt"
      ],
      "execution_count": 1,
      "outputs": []
    },
    {
      "cell_type": "markdown",
      "metadata": {
        "id": "H93dQ6SdZ_LE"
      },
      "source": [
        "Carga el dataset:"
      ]
    },
    {
      "cell_type": "code",
      "metadata": {
        "colab": {
          "base_uri": "https://localhost:8080/"
        },
        "id": "mx5_cAIbZ7FM",
        "outputId": "9dad420e-0074-4afb-9311-e10b93d92501"
      },
      "source": [
        "dataset = pd.read_csv(\"/content/urls _pishing_F.csv\", encoding='latin-1')\n",
        "\n",
        "X = dataset.iloc[:,[3,4,5,6,7,8,9,10,11,12]].values\n",
        "#X = dataset.iloc[:,[3,4]].values\n",
        "y = dataset.iloc[:,13].values\n",
        "\n",
        "dataset.head()\n",
        "print(X)"
      ],
      "execution_count": 4,
      "outputs": [
        {
          "output_type": "stream",
          "name": "stdout",
          "text": [
            "[['26496' ' Host Europe GmbH ' ' US ' ... 1000.0 '76' 79]\n",
            " ['14618' ' Amazon.com ' ' US ' ... 89.0 ' nan ' 53]\n",
            " ['14618' ' Amazon.com ' ' US ' ... 89.0 ' nan ' 116]\n",
            " ...\n",
            " ['16625' ' Akamai Technologies ' ' US ' ... 5.0 ' nan ' 55]\n",
            " ['23520' ' Columbus Networks de Colombia Limitada ' ' CO ' ... 9.0\n",
            "  ' nan ' 48]\n",
            " ['23520' ' Columbus Networks de Colombia Limitada ' ' CO ' ... 9.0\n",
            "  ' nan ' 36]]\n"
          ]
        }
      ]
    },
    {
      "cell_type": "markdown",
      "metadata": {
        "id": "4pT2mve7dQZy"
      },
      "source": [
        "Tratamiento de los datos faltantes ie NaN"
      ]
    },
    {
      "cell_type": "code",
      "metadata": {
        "id": "N1I_DbdEdVh6"
      },
      "source": [
        "\n",
        "from sklearn.impute import SimpleImputer\n",
        "imputer = SimpleImputer(missing_values = np.nan , strategy = 'mean')\n",
        "#imputer = imputer.fit(X[:,[1,4,8,9,10]])\n",
        "#X[:,[1,4,8,9,10]] = imputer.transform(X[:,[1,4,8,9,10]])\n",
        "imputer = imputer.fit(X[:,[0,3,7,8,9]])\n",
        "X[:,[0,3,7,8,9]] = imputer.transform(X[:,[0,3,7,8,9]])"
      ],
      "execution_count": 5,
      "outputs": []
    },
    {
      "cell_type": "markdown",
      "metadata": {
        "id": "P-jTWA1id90V"
      },
      "source": [
        "Codificación númerica de los datos cualitativos"
      ]
    },
    {
      "cell_type": "code",
      "metadata": {
        "id": "XSAGVMzudtUK"
      },
      "source": [
        "from sklearn.preprocessing import LabelEncoder\n",
        "\n",
        "labelencoder_X = LabelEncoder() \n",
        "X[:,1] = labelencoder_X.fit_transform(X[:,1].astype(str))\n",
        "X[:,2] = labelencoder_X.fit_transform(X[:,2].astype(str))\n",
        "X[:,4] = labelencoder_X.fit_transform(X[:,4].astype(str))\n",
        "X[:,5] = labelencoder_X.fit_transform(X[:,5].astype(str))\n",
        "X[:,6] = labelencoder_X.fit_transform(X[:,6].astype(str))"
      ],
      "execution_count": 6,
      "outputs": []
    },
    {
      "cell_type": "markdown",
      "metadata": {
        "id": "VgaUJ0NmeMht"
      },
      "source": [
        "Dividir el data set en conjunto de entrenamiento y conjunto de testing(cross validation )"
      ]
    },
    {
      "cell_type": "code",
      "metadata": {
        "id": "qzfiry1KeOG8"
      },
      "source": [
        "from sklearn.model_selection import train_test_split\n",
        "X_train, X_test, y_train, y_test = train_test_split(X, y, test_size = 0.25, random_state = 0)"
      ],
      "execution_count": 7,
      "outputs": []
    },
    {
      "cell_type": "markdown",
      "metadata": {
        "id": "E3YwjDKmsRX-"
      },
      "source": [
        "Aplicando el Escalado de variables"
      ]
    },
    {
      "cell_type": "code",
      "metadata": {
        "id": "EQuxumrmsUv8"
      },
      "source": [
        "from sklearn.preprocessing import StandardScaler\n",
        "sc_X = StandardScaler()\n",
        "X_train = sc_X.fit_transform(X_train)\n",
        "X_test = sc_X.transform(X_test)\n"
      ],
      "execution_count": 8,
      "outputs": []
    },
    {
      "cell_type": "markdown",
      "metadata": {
        "id": "npcAZV0Gtl_j"
      },
      "source": [
        "Ajustar el clasificador en el Conjunto de entrenamiento"
      ]
    },
    {
      "cell_type": "code",
      "metadata": {
        "colab": {
          "base_uri": "https://localhost:8080/"
        },
        "id": "7kreZUCwtZ0P",
        "outputId": "67ec40d2-37b6-4d1c-e3b9-192d51aceb66"
      },
      "source": [
        "from sklearn.naive_bayes import GaussianNB\n",
        "classifier = GaussianNB()\n",
        "classifier.fit(X_train, y_train)"
      ],
      "execution_count": 12,
      "outputs": [
        {
          "output_type": "execute_result",
          "data": {
            "text/plain": [
              "GaussianNB(priors=None, var_smoothing=1e-09)"
            ]
          },
          "metadata": {},
          "execution_count": 12
        }
      ]
    },
    {
      "cell_type": "markdown",
      "metadata": {
        "id": "ZoUVLswZwMWG"
      },
      "source": [
        "Conjunto de testeo se elabora la predicción de los resultado\n",
        "\n",
        "> Bloque con sangría\n",
        "\n"
      ]
    },
    {
      "cell_type": "code",
      "metadata": {
        "colab": {
          "base_uri": "https://localhost:8080/"
        },
        "id": "nCUcmZkywT3r",
        "outputId": "56ce6cf6-403e-4088-de4f-214524fe0847"
      },
      "source": [
        "y_pred  = classifier.predict(X_test)\n",
        "print(y_pred)\n"
      ],
      "execution_count": 13,
      "outputs": [
        {
          "output_type": "stream",
          "name": "stdout",
          "text": [
            "[1 1 1 1 0 0 0 0 0 1 0 1 0 0 0 1 0 1 0 1 1 1 0 1 0 0 1 0 1 1 0 0 0 1 1 0 1\n",
            " 0 1 0 1 1 1 0 0 1 1 0 1 0 1 1 0 0 0 0 1 0 0]\n"
          ]
        }
      ]
    },
    {
      "cell_type": "markdown",
      "metadata": {
        "id": "RBEqQ4T4wZzO"
      },
      "source": [
        "Se elabora la matriz de confusión: Mide el desempeño del algoritmo falsos positivos etc"
      ]
    },
    {
      "cell_type": "code",
      "metadata": {
        "id": "l2cMz4j0wY7i"
      },
      "source": [
        "from sklearn.metrics import confusion_matrix\n",
        "cm = confusion_matrix(y_test, y_pred)\n",
        "print(cm)"
      ],
      "execution_count": null,
      "outputs": []
    },
    {
      "cell_type": "markdown",
      "metadata": {
        "id": "yfU9cD85w8ML"
      },
      "source": [
        "Creación curva ROC Naive Bayes"
      ]
    },
    {
      "cell_type": "code",
      "metadata": {
        "colab": {
          "base_uri": "https://localhost:8080/"
        },
        "id": "wBdteGkSxDdh",
        "outputId": "26eca6c3-6832-4c98-8658-56a1dd0f293c"
      },
      "source": [
        "from sklearn.metrics import roc_auc_score\n",
        "roc_auc = roc_auc_score(y_test, y_pred)\n",
        "print('Curva ROC - AUC del modelo:')\n",
        "print(roc_auc)"
      ],
      "execution_count": 14,
      "outputs": [
        {
          "output_type": "stream",
          "name": "stdout",
          "text": [
            "Curva ROC - AUC del modelo:\n",
            "0.9488505747126436\n"
          ]
        }
      ]
    },
    {
      "cell_type": "markdown",
      "metadata": {
        "id": "5hpcTqr7xWcB"
      },
      "source": [
        "Creación Diagrama ROC:"
      ]
    },
    {
      "cell_type": "code",
      "metadata": {
        "colab": {
          "base_uri": "https://localhost:8080/",
          "height": 313
        },
        "id": "Xfn62xtdyCIi",
        "outputId": "f215a414-78c0-45a0-c74e-b04b842d2781"
      },
      "source": [
        "from sklearn.metrics import roc_curve\n",
        "from matplotlib import pyplot\n",
        "ns_probs = [0 for _ in range(len(y_test))]\n",
        "lr_probs = classifier.predict_proba(X_test)\n",
        "lr_probs = lr_probs[:, 1]\n",
        "ns_auc = roc_auc_score(y_test, ns_probs)\n",
        "lr_auc = roc_auc_score(y_test, lr_probs)\n",
        "print('Sin entrenar: ROC AUC=%.3f' % (ns_auc))\n",
        "print('Naive Bayews: ROC AUC=%.3f' % (lr_auc))\n",
        "ns_fpr, ns_tpr, _ = roc_curve(y_test, ns_probs)\n",
        "lr_fpr, lr_tpr, _ = roc_curve(y_test, lr_probs)\n",
        "pyplot.plot(ns_fpr, ns_tpr, linestyle='--', label='Sin entrenar')\n",
        "pyplot.plot(lr_fpr, lr_tpr, marker='.', label='Naive Bayes')\n",
        "# Etiquetas de los ejes\n",
        "pyplot.xlabel('Tasa de Falsos Positivos')\n",
        "pyplot.ylabel('Tasa de Verdaderos Positivos')\n",
        "pyplot.legend()\n",
        "pyplot.show()"
      ],
      "execution_count": 16,
      "outputs": [
        {
          "output_type": "stream",
          "name": "stdout",
          "text": [
            "Sin entrenar: ROC AUC=0.500\n",
            "Naive Bayews: ROC AUC=0.961\n"
          ]
        },
        {
          "output_type": "display_data",
          "data": {
            "image/png": "[encoded data removed]",
            "text/plain": [
              "<Figure size 432x288 with 1 Axes>"
            ]
          },
          "metadata": {
            "needs_background": "light"
          }
        }
      ]
    }
  ]
}